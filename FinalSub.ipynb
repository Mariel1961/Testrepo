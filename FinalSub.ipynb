{
 "cells": [
  {
   "cell_type": "markdown",
   "id": "a4989838-37fe-4e06-a9f7-70b304c1b329",
   "metadata": {},
   "source": [
    "# Data Science Exercise Notebook \n",
    "# By Mariel Hidalgo Flores"
   ]
  },
  {
   "cell_type": "markdown",
   "id": "46e5d123-ff47-4fac-9672-9b711a0cea38",
   "metadata": {
    "tags": []
   },
   "source": [
    "## Introduction\n",
    "\n",
    "This notebook contains various exercises in order to practice Markdown and Python in Jupiter Notebook."
   ]
  },
  {
   "cell_type": "markdown",
   "id": "15641b45-ff2a-49f4-bcfa-02ca95992226",
   "metadata": {},
   "source": [
    "### Data Science Languages \n",
    "\n",
    "1. Python\n",
    "2. R\n",
    "3. SQL \n",
    "4. Scala\n",
    "5. Julia\n"
   ]
  },
  {
   "cell_type": "markdown",
   "id": "60849b4d-25e2-4a81-b38b-ea6dd33ec1ac",
   "metadata": {},
   "source": [
    "### Data Science Libraries\n",
    "\n",
    "1. Pandas\n",
    "2. Numpy\n",
    "3. MatplotLib\n",
    "4. Scikit-Learn\n",
    "5. Tensor Flow\n",
    "6. Keras\n",
    "7. Pytorch"
   ]
  },
  {
   "cell_type": "markdown",
   "id": "65a9b5ee-84e8-4ca9-8007-e5b47e946c85",
   "metadata": {},
   "source": [
    "### Data Science Tools\n",
    "\n",
    "|Tool|Description|\n",
    "|:----:|:-----------|\n",
    "|Jupyter|Interactive computing enviroment|\n",
    "|RStudio|Integrated development enviroment for R|\n",
    "|Apache Spark|Cluster-computing framework|\n",
    "|Tableau|Data visualization software|\n",
    "|Rapid Miner|Data science plataform|\n"
   ]
  },
  {
   "cell_type": "code",
   "execution_count": null,
   "id": "cb07a4f7-bb93-4939-b975-bded7ff14135",
   "metadata": {},
   "outputs": [],
   "source": []
  },
  {
   "cell_type": "markdown",
   "id": "25f75832-c27c-40c4-833c-404aed13a10e",
   "metadata": {
    "tags": []
   },
   "source": [
    "### Arithmetic Expression Examples\n",
    "\n",
    "*This section demostrates basic operations such adition and multiplication.*"
   ]
  },
  {
   "cell_type": "code",
   "execution_count": 4,
   "id": "03376096-de1e-4a44-ab1c-07ccc67ae7a2",
   "metadata": {
    "tags": []
   },
   "outputs": [
    {
     "data": {
      "text/plain": [
       "23.0"
      ]
     },
     "execution_count": 4,
     "metadata": {},
     "output_type": "execute_result"
    }
   ],
   "source": [
    "a=7\n",
    "b=21\n",
    "result=((a*b)+(b-a))/a\n",
    "result"
   ]
  },
  {
   "cell_type": "code",
   "execution_count": 3,
   "id": "73c275af-f05b-4421-b500-20816089b121",
   "metadata": {
    "tags": []
   },
   "outputs": [
    {
     "data": {
      "text/plain": [
       "4.0"
      ]
     },
     "execution_count": 3,
     "metadata": {},
     "output_type": "execute_result"
    }
   ],
   "source": [
    "Minutes=240\n",
    "Hours=Minutes/60\n",
    "Hours"
   ]
  },
  {
   "cell_type": "markdown",
   "id": "fd510f2d-9e42-4708-9f34-ab3f32cccb3e",
   "metadata": {},
   "source": [
    "### Objectives\n",
    "\n",
    "- Understand the basic usage of Jupyter notebooks\n",
    "- Learn how to create markdown cells and code cells \n",
    "- Demostrate arithmetic operation\n",
    "- Conver time units from minutes to hours\n"
   ]
  },
  {
   "cell_type": "markdown",
   "id": "12bc0669-c3e9-42d7-889d-651cff522655",
   "metadata": {},
   "source": [
    "### Author \n",
    "\n",
    "Mariel Ilean Rossy Hidalgo Flores "
   ]
  },
  {
   "cell_type": "code",
   "execution_count": null,
   "id": "21486b66-9e1e-4311-bb5d-1e48ee5aba59",
   "metadata": {},
   "outputs": [],
   "source": []
  }
 ],
 "metadata": {
  "kernelspec": {
   "display_name": "Python",
   "language": "python",
   "name": "conda-env-python-py"
  },
  "language_info": {
   "codemirror_mode": {
    "name": "ipython",
    "version": 3
   },
   "file_extension": ".py",
   "mimetype": "text/x-python",
   "name": "python",
   "nbconvert_exporter": "python",
   "pygments_lexer": "ipython3",
   "version": "3.7.12"
  }
 },
 "nbformat": 4,
 "nbformat_minor": 5
}
